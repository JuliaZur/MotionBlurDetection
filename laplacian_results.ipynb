{
 "cells": [
  {
   "cell_type": "markdown",
   "source": [
    "# Laplacian algorithm for motion blur detection"
   ],
   "metadata": {
    "collapsed": false,
    "pycharm": {
     "name": "#%% md\n",
     "is_executing": false
    }
   }
  },
  {
   "cell_type": "code",
   "execution_count": 2,
   "outputs": [],
   "source": [
    "from laplacian_blur_detection import MotionBlurDetectionLaplacian\n",
    "from data_preparation import get_regions_with_labels\n",
    "from sklearn.metrics import accuracy_score"
   ],
   "metadata": {
    "collapsed": false,
    "pycharm": {
     "name": "#%%\n",
     "is_executing": false
    }
   }
  },
  {
   "cell_type": "code",
   "execution_count": 3,
   "outputs": [],
   "source": [
    "thresholds = range(100,2001,100)\n",
    "predictions = {}\n",
    "for threshold in thresholds:\n",
    "    laplacian = MotionBlurDetectionLaplacian(threshold=threshold)\n",
    "    prediction = laplacian.predict()\n",
    "    predictions[threshold] = prediction"
   ],
   "metadata": {
    "collapsed": false,
    "pycharm": {
     "name": "#%%\n",
     "is_executing": false
    }
   }
  },
  {
   "cell_type": "code",
   "execution_count": 4,
   "outputs": [],
   "source": [
    "images_regions = get_regions_with_labels()"
   ],
   "metadata": {
    "collapsed": false,
    "pycharm": {
     "name": "#%%\n",
     "is_executing": false
    }
   }
  },
  {
   "cell_type": "code",
   "execution_count": 5,
   "outputs": [],
   "source": [
    "ground_truth_labels = [image_region.label for image_region in images_regions]"
   ],
   "metadata": {
    "collapsed": false,
    "pycharm": {
     "name": "#%%\n",
     "is_executing": false
    }
   }
  },
  {
   "cell_type": "markdown",
   "source": [
    "### Accuracy score for each threshold"
   ],
   "metadata": {
    "collapsed": false,
    "pycharm": {
     "name": "#%% md\n"
    }
   }
  },
  {
   "cell_type": "code",
   "execution_count": 6,
   "outputs": [
    {
     "name": "stdout",
     "text": [
      "Threshold: 100\nAccuracy: 0.5687001780578003\n\nThreshold: 200\n",
      "Accuracy: 0.6196959320641008\n\nThreshold: 300\nAccuracy: 0.6631365566360773\n\n",
      "Threshold: 400\nAccuracy: 0.6990658813861115\n\nThreshold: 500\n",
      "Accuracy: 0.7283495411587454\n\nThreshold: 600\nAccuracy: 0.7510478016710039\n\nThreshold: 700\n",
      "Accuracy: 0.7694507601698397\n\nThreshold: 800\nAccuracy: 0.7841829886316943\n\nThreshold: 900\n",
      "Accuracy: 0.7952609231612108\n\nThreshold: 1000\nAccuracy: 0.8041145048623476\n\nThreshold: 1100\n",
      "Accuracy: 0.8113189973976168\n\nThreshold: 1200\nAccuracy: 0.8168470072592795\n\nThreshold: 1300\n",
      "Accuracy: 0.8202766744281605\n\nThreshold: 1400\nAccuracy: 0.8228297493494042\n\nThreshold: 1500\n",
      "Accuracy: 0.8245281468292015\n\nThreshold: 1600\nAccuracy: 0.8255417066155322\n\nThreshold: 1700\n",
      "Accuracy: 0.8261224489795919\n\nThreshold: 1800\nAccuracy: 0.8261169702780441\n\nThreshold: 1900\n",
      "Accuracy: 0.825563621421723\n\nThreshold: 2000\nAccuracy: 0.8245336255307492\n\n"
     ],
     "output_type": "stream"
    }
   ],
   "source": [
    "for threshold, prediction in predictions.items():\n",
    "    predicted_labels = [pred for pred, fm in prediction]\n",
    "    print(\"Threshold: \" + str(threshold))\n",
    "    accuracy = accuracy_score(ground_truth_labels, predicted_labels)\n",
    "    print(\"Accuracy: \" + str(accuracy) + \"\\n\")"
   ],
   "metadata": {
    "collapsed": false,
    "pycharm": {
     "name": "#%%\n",
     "is_executing": false
    }
   }
  },
  {
   "cell_type": "markdown",
   "source": [
    "The best accuracy is for threshold 1700.\n",
    " "
   ],
   "metadata": {
    "collapsed": false,
    "pycharm": {
     "name": "#%% md\n"
    }
   }
  }
 ],
 "metadata": {
  "language_info": {
   "codemirror_mode": {
    "name": "ipython",
    "version": 2
   },
   "file_extension": ".py",
   "mimetype": "text/x-python",
   "name": "python",
   "nbconvert_exporter": "python",
   "pygments_lexer": "ipython2",
   "version": "2.7.6"
  },
  "kernelspec": {
   "name": "python3",
   "language": "python",
   "display_name": "Python 3"
  },
  "pycharm": {
   "stem_cell": {
    "cell_type": "raw",
    "source": [],
    "metadata": {
     "collapsed": false
    }
   }
  }
 },
 "nbformat": 4,
 "nbformat_minor": 0
}